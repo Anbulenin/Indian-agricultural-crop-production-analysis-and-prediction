{
  "cells": [
    {
      "metadata": {
        "_uuid": "8f2839f25d086af736a60e9eeb907d3b93b6e0e5",
        "_cell_guid": "b1076dfc-b9ad-4769-8c92-a6c4dae69d19",
        "trusted": true
      },
      "cell_type": "code",
      "source": "# This Python 3 environment comes with many helpful analytics libraries installed\n# It is defined by the kaggle/python docker image: https://github.com/kaggle/docker-python\n# For example, here's several helpful packages to load in \n\nimport numpy as np # linear algebra\nimport pandas as pd # data processing, CSV file I/O (e.g. pd.read_csv)\nfrom sklearn import tree\nfrom ipykernel import kernelapp as app\nimport pandas as pd\nimport numpy as np\nimport seaborn as sns\nimport matplotlib.pyplot as plt\nfrom matplotlib import rcParams\n\n# Input data files are available in the \"../input/\" directory.\n# For example, running this (by clicking run or pressing Shift+Enter) will list the files in the input directory\n\nimport os\nprint(os.listdir(\"../input\"))\n\n# Any results you write to the current directory are saved as output.",
      "execution_count": null,
      "outputs": []
    },
    {
      "metadata": {
        "_cell_guid": "79c7e3d0-c299-4dcb-8224-4455121ee9b0",
        "_uuid": "d629ff2d2480ee46fbb7e2d37f6b5fab8052498a",
        "trusted": true,
        "scrolled": true
      },
      "cell_type": "code",
      "source": "#loading the csv\ndf=pd.read_csv(\"../input/apy.csv\",encoding = \"ISO-8859-1\")\ndf.dtypes",
      "execution_count": null,
      "outputs": []
    },
    {
      "metadata": {
        "trusted": true,
        "_uuid": "88c4351df7a08a898fef6cc5ae0f6985c4535eeb"
      },
      "cell_type": "code",
      "source": "#indian agricultural production dataset\ndf.head()",
      "execution_count": null,
      "outputs": []
    },
    {
      "metadata": {
        "trusted": true,
        "_uuid": "b2567f1a1d55117ddf04d7cf7b254006a42cac4e"
      },
      "cell_type": "code",
      "source": "#converting production to numeric type\ndf['Production']=pd.to_numeric(df['Production'],errors='coerce')",
      "execution_count": null,
      "outputs": []
    },
    {
      "metadata": {
        "trusted": true,
        "_uuid": "ee5413b75ef49dd243ff0b778744a977df671fb3"
      },
      "cell_type": "code",
      "source": "#grouping area and production for each year by mean\ndata=df.groupby(['Crop_Year'])['Area','Production'].mean()\ndata=data.reset_index(level=0, inplace=False)\ndata",
      "execution_count": null,
      "outputs": []
    },
    {
      "metadata": {
        "trusted": true,
        "_uuid": "7b2db82945dd22230e210abd188cada5f1f5a7b5"
      },
      "cell_type": "code",
      "source": "#calulation cpi\ndata['CPI']=data['Production']/data['Area']\ndata.head()",
      "execution_count": null,
      "outputs": []
    },
    {
      "metadata": {
        "trusted": true,
        "_uuid": "204f7d9c2b9d2552e2b8426e01c839212461c735"
      },
      "cell_type": "code",
      "source": "data.describe()",
      "execution_count": null,
      "outputs": []
    },
    {
      "metadata": {
        "trusted": true,
        "_uuid": "3f4023c9cdd55472f498fb6555f3a70e6db8b2de"
      },
      "cell_type": "code",
      "source": "#boxplot plotting\nimport seaborn as sns\nsns.boxplot(x=data['CPI'])",
      "execution_count": null,
      "outputs": []
    },
    {
      "metadata": {
        "trusted": true,
        "_uuid": "07b930f9f69628840e7abdaa0fff8c84f888789c"
      },
      "cell_type": "code",
      "source": "data = data[np.isfinite(data['CPI'])]\ndata=data[data.CPI >43]\ndata=data[data.CPI <51]\ndata.set_index('Crop_Year')\ndata",
      "execution_count": null,
      "outputs": []
    },
    {
      "metadata": {
        "trusted": true,
        "_uuid": "7edcaa4dbb5399ba226869890669a75008048681"
      },
      "cell_type": "code",
      "source": "#plotting histogram\ndata.hist()",
      "execution_count": null,
      "outputs": []
    },
    {
      "metadata": {
        "trusted": true,
        "_uuid": "ec9cba8b45bc74f2d3b9abc191946e990a08a0a8"
      },
      "cell_type": "code",
      "source": "#comparison of production and area for each year\nx_axis=data.Crop_Year\ny_axis=data.Area\n\ny1_axis=data.Production\n\nplt.plot(x_axis,y_axis)\nplt.plot(x_axis,y1_axis,color='r')\n\nplt.title(\"Production and area \")\nplt.legend([\"Production \",\"Area\"])\nplt.show()",
      "execution_count": null,
      "outputs": []
    },
    {
      "metadata": {
        "trusted": true,
        "_uuid": "0ee58fd20935eb48e8c77aea97b3a7dfc51a0c1c"
      },
      "cell_type": "code",
      "source": "#plotting of production\nx_axis=data.Crop_Year\ny1_axis=data.Production\n\n\n\nplt.plot(x_axis,y1_axis)\n\nplt.title(\"Year vs Production \")\nplt.legend([\"Year \",\"Production\"])\nplt.show()",
      "execution_count": null,
      "outputs": []
    },
    {
      "metadata": {
        "trusted": true,
        "_uuid": "dd9cb5c540f44672e15868983436699e71f8fc52"
      },
      "cell_type": "code",
      "source": "",
      "execution_count": null,
      "outputs": []
    },
    {
      "metadata": {
        "trusted": true,
        "_uuid": "2791d2504fe672f4eefe07936d23385451ae3516"
      },
      "cell_type": "code",
      "source": "#importing random forest regressor\nfrom sklearn.ensemble import RandomForestRegressor\nfrom sklearn.cross_validation import train_test_split",
      "execution_count": null,
      "outputs": []
    },
    {
      "metadata": {
        "trusted": true,
        "_uuid": "d99d2ac4a35c1159e5eb6160726cb35e7ac2ac24"
      },
      "cell_type": "code",
      "source": "#splitting and fitting of the model\nx=data.iloc[:,0:1].values\ny=data.iloc[:,3].values\nregressor=RandomForestRegressor(n_estimators=12,random_state=0,n_jobs=1,verbose=13)\n\nregressor.fit(x,y)",
      "execution_count": null,
      "outputs": []
    },
    {
      "metadata": {
        "trusted": true,
        "_uuid": "c8b56fb48901de5ed92355836b39291cf16d5cb1"
      },
      "cell_type": "code",
      "source": "#predicting for the test values\ny_pred=regressor.predict(x)\ny_pred",
      "execution_count": null,
      "outputs": []
    },
    {
      "metadata": {
        "trusted": true,
        "_uuid": "b00eed7bea807405aa2b7d41c77f2ec225f7a310"
      },
      "cell_type": "code",
      "source": "#random forest steps plotting\nx_grid=np.arange(min(x),max(x),0.001)\nx_grid=x_grid.reshape(len(x_grid),1)\nplt.scatter(x,y,color='r')\nplt.plot(x_grid,regressor.predict(x_grid),color='b')\na=plt.show()\na",
      "execution_count": null,
      "outputs": []
    },
    {
      "metadata": {
        "trusted": true,
        "_uuid": "5fadc8e5f21f16cee2a371302637049d64456a6f"
      },
      "cell_type": "code",
      "source": "#actual and predicted values\ndm = pd.DataFrame({'Actual': y, 'Predicted': y_pred}).reset_index()\nx_axis=dm.index\ny_axis=dm.Actual\ny1_axis=dm.Predicted\nplt.plot(x_axis,y_axis)\nplt.plot(x_axis,y1_axis)\nplt.title(\"Actual vs Predicted\")\nplt.legend([\"actual \",\"predicted\"])\nb=plt.show()\nb",
      "execution_count": null,
      "outputs": []
    },
    {
      "metadata": {
        "trusted": true,
        "_uuid": "63796b00eac958a619eea4a214475f14d06797e9"
      },
      "cell_type": "code",
      "source": "#calculation of mse\nfrom sklearn.metrics import mean_squared_error\nprint('mse:%.2f'%mean_squared_error(y,y_pred))",
      "execution_count": null,
      "outputs": []
    }
  ],
  "metadata": {
    "kernelspec": {
      "display_name": "Python 3",
      "language": "python",
      "name": "python3"
    },
    "language_info": {
      "name": "python",
      "version": "3.6.6",
      "mimetype": "text/x-python",
      "codemirror_mode": {
        "name": "ipython",
        "version": 3
      },
      "pygments_lexer": "ipython3",
      "nbconvert_exporter": "python",
      "file_extension": ".py"
    }
  },
  "nbformat": 4,
  "nbformat_minor": 1
}